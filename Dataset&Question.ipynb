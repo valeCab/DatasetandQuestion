{
  "nbformat": 4,
  "nbformat_minor": 0,
  "metadata": {
    "colab": {
      "provenance": []
    },
    "kernelspec": {
      "name": "python3",
      "display_name": "Python 3"
    },
    "language_info": {
      "name": "python"
    }
  },
  "cells": [
    {
      "cell_type": "code",
      "execution_count": null,
      "metadata": {
        "id": "od1usMW5ASBD"
      },
      "outputs": [],
      "source": [
        "# Dataset and Questions"
      ]
    },
    {
      "cell_type": "markdown",
      "source": [
        "Why do you think this datset is interesting?\n",
        "  \n",
        "  This dataset is interesting because it explores the relationship between healthcare spending and life expectancy. By comparing a country that spends a lot on healthcare and a country that does not spend a lot on healthcare -- US and India -- I can analyze how different levels of investment in healthcare can impact longevity.\n",
        "\n",
        "What do you hope yo learn from it?\n",
        "\n",
        "  I hope to learn whether higher helthcare spending leads to a longer life expectancy or if other factors influence longevity.\n",
        "\n",
        "What are your goals?\n",
        "\n",
        "  My goal is to understand the impact of healthcare investment."
      ],
      "metadata": {
        "id": "lK4xGsetAdpY"
      }
    }
  ]
}